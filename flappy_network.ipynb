{
 "cells": [
  {
   "cell_type": "code",
   "execution_count": 1,
   "metadata": {},
   "outputs": [],
   "source": [
    "import numpy as np"
   ]
  },
  {
   "cell_type": "code",
   "execution_count": 72,
   "metadata": {},
   "outputs": [
    {
     "name": "stdout",
     "output_type": "stream",
     "text": [
      "[[3.97381255e-176]]\n"
     ]
    }
   ],
   "source": [
    "# flappy bird network\n",
    "def nonlin(x, deriv=False):\n",
    "    if (deriv == True):\n",
    "        return x * (1 - x)\n",
    "    return 1 / (1 + np.exp(-x))\n",
    "\n",
    "X = np.array([ [200,40,250,350] ]) # 4 input nodes\n",
    "y = np.array([1]) # output\n",
    "\n",
    "np.random.seed(1)\n",
    "\n",
    "syn0 = 2 * np.random.random((4,1)) - 1 # 4 weight values\n",
    "\n",
    "l1 = nonlin(np.dot(l0, syn0))\n",
    "\n",
    "print(l1)"
   ]
  },
  {
   "cell_type": "code",
   "execution_count": 48,
   "metadata": {},
   "outputs": [
    {
     "name": "stdout",
     "output_type": "stream",
     "text": [
      "[[3.75192283e-65]]\n"
     ]
    }
   ],
   "source": [
    "for iter in range(10000):\n",
    "    l0 = X\n",
    "    l1 = nonlin(np.dot(l0, syn0))\n",
    "    \n",
    "    l1_error = y - l1 # gets error of guess\n",
    "    \n",
    "    l1_delta = l1_error * nonlin(l1, True)\n",
    "    \n",
    "    syn0 += np.dot(l0.T, l1_delta)\n",
    "print(l1)"
   ]
  }
 ],
 "metadata": {
  "kernelspec": {
   "display_name": "Python 3",
   "language": "python",
   "name": "python3"
  },
  "language_info": {
   "codemirror_mode": {
    "name": "ipython",
    "version": 3
   },
   "file_extension": ".py",
   "mimetype": "text/x-python",
   "name": "python",
   "nbconvert_exporter": "python",
   "pygments_lexer": "ipython3",
   "version": "3.8.5"
  }
 },
 "nbformat": 4,
 "nbformat_minor": 4
}
